{
 "cells": [
  {
   "cell_type": "code",
   "execution_count": 1,
   "metadata": {},
   "outputs": [],
   "source": [
    "import os; os.chdir('..')"
   ]
  },
  {
   "cell_type": "code",
   "execution_count": 2,
   "metadata": {},
   "outputs": [],
   "source": [
    "from utils.fb_scrape import extract_video_from_url"
   ]
  },
  {
   "cell_type": "code",
   "execution_count": 3,
   "metadata": {},
   "outputs": [
    {
     "name": "stdout",
     "output_type": "stream",
     "text": [
      "<class 'str'>\n",
      "base url: https://video.fdel1-2.fna.fbcdn.net/v/t39.25447-2/411212621_321315644101295_8694773489798398332_n.mp4?_nc_cat=101&ccb=1-7&_nc_sid=9a5d50&efg=eyJ2ZW5jb2RlX3RhZyI6ImRhc2hfYXVkaW9fYWFjcF80OF9mbm9ybTE0X2ZyYWdfMl9hdWRpbyJ9&_nc_ohc=CO-3wMZeIRUAX8oiKjN&_nc_ht=video.fdel1-2.fna&oh=00_AfAocm4-cYgCAMBlY1JDrIevSs2Ep0jiNNfeDXvdIZg-Bw&oe=65B02BBD\n"
     ]
    },
    {
     "data": {
      "text/plain": [
       "'dummy_clips/3a50275e-ffc5-47f4-97bf-ac9858e0bc99.mp4'"
      ]
     },
     "execution_count": 3,
     "metadata": {},
     "output_type": "execute_result"
    }
   ],
   "source": [
    "extract_video_from_url(\"https://fb.watch/pEzoy-y66O/\")"
   ]
  },
  {
   "cell_type": "code",
   "execution_count": 4,
   "metadata": {},
   "outputs": [
    {
     "name": "stdout",
     "output_type": "stream",
     "text": [
      "<class 'str'>\n",
      "base url: https://video.fdel1-5.fna.fbcdn.net/v/t39.25447-2/400924423_238124375719885_595885740737611282_n.mp4?_nc_cat=110&ccb=1-7&_nc_sid=9a5d50&efg=eyJ2ZW5jb2RlX3RhZyI6ImRhc2hfYXVkaW9fYWFjcF82NF9mbm9ybTE0X2ZyYWdfMl9hdWRpbyJ9&_nc_ohc=mL7lHe3MNNEAX_iFBEP&_nc_ht=video.fdel1-5.fna&oh=00_AfCwU-SJ43vkAl0byTg3j1o65Po7qklZ8-J97NBzpd8QGQ&oe=65AFBE95\n"
     ]
    },
    {
     "data": {
      "text/plain": [
       "'dummy_clips/51e3f8a9-ad86-4d07-8bc1-ec3c69d603cb.mp4'"
      ]
     },
     "execution_count": 4,
     "metadata": {},
     "output_type": "execute_result"
    }
   ],
   "source": [
    "extract_video_from_url(\"https://fb.watch/pFZdghKC4o/\")"
   ]
  },
  {
   "cell_type": "code",
   "execution_count": null,
   "metadata": {},
   "outputs": [],
   "source": []
  }
 ],
 "metadata": {
  "kernelspec": {
   "display_name": "venv",
   "language": "python",
   "name": "python3"
  },
  "language_info": {
   "codemirror_mode": {
    "name": "ipython",
    "version": 3
   },
   "file_extension": ".py",
   "mimetype": "text/x-python",
   "name": "python",
   "nbconvert_exporter": "python",
   "pygments_lexer": "ipython3",
   "version": "3.10.12"
  }
 },
 "nbformat": 4,
 "nbformat_minor": 2
}
