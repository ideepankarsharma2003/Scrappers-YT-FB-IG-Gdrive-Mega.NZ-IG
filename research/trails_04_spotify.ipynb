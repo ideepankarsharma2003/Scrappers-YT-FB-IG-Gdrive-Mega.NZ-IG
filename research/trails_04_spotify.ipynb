{
 "cells": [
  {
   "cell_type": "code",
   "execution_count": 1,
   "metadata": {},
   "outputs": [
    {
     "data": {
      "text/plain": [
       "'/home/lucky/Vid2Aud'"
      ]
     },
     "execution_count": 1,
     "metadata": {},
     "output_type": "execute_result"
    }
   ],
   "source": [
    "import os; os.chdir(\"..\")\n",
    "%pwd"
   ]
  },
  {
   "cell_type": "code",
   "execution_count": 2,
   "metadata": {},
   "outputs": [],
   "source": [
    "# !pip install savify"
   ]
  },
  {
   "cell_type": "code",
   "execution_count": 3,
   "metadata": {},
   "outputs": [
    {
     "name": "stdout",
     "output_type": "stream",
     "text": [
      "CLIENT_ID= cd7e13bcd8ca4d51bab6712079502208\n",
      "CLIENT_SECRET= 49c2e69e60fd4fd5958823085ff337dd\n",
      "/home/lucky/Vid2Aud\n"
     ]
    }
   ],
   "source": [
    "from savify import Savify\n",
    "from savify.types import Type, Format, Quality\n",
    "from savify.utils import PathHolder\n",
    "from savify.logger import Logger\n",
    "\n",
    "logger = Logger(log_location='logs', log_level=None) # Silent output\n",
    "\n",
    "# Savify(logger=logger)\n",
    "\n",
    "(CLIENT_ID,CLIENT_SECRET)=\"cd7e13bcd8ca4d51bab6712079502208\",\"49c2e69e60fd4fd5958823085ff337dd\"\n",
    "print(f\"CLIENT_ID= {CLIENT_ID}\")\n",
    "print(f\"CLIENT_SECRET= {CLIENT_SECRET}\")\n",
    "\n",
    "\n",
    "os.environ[\"SPOTIPY_CLIENT_ID\"]= CLIENT_ID\n",
    "os.environ[\"SPOTIPY_CLIENT_SECRET\"]= CLIENT_SECRET\n",
    "# s = Savify(api_credentials=(CLIENT_ID,CLIENT_SECRET))\n",
    "\n",
    "\n",
    "print(os.getcwd())\n",
    "s = Savify(\n",
    "            logger=logger,\n",
    "            path_holder=PathHolder(\n",
    "                                data_path=os.getcwd(),\n",
    "                                downloads_path=os.getcwd()+'/dummy_clips'\n",
    "                            )\n",
    "        )\n"
   ]
  },
  {
   "cell_type": "code",
   "execution_count": 4,
   "metadata": {},
   "outputs": [
    {
     "name": "stdout",
     "output_type": "stream",
     "text": [
      "queue= []\n",
      "\n"
     ]
    }
   ],
   "source": [
    "# Spotify URL\n",
    "s.download(\"https://open.spotify.com/episode/6z8ZBj0ZVLoJjd5cP0Jrbw?si=c812d21fe41e457d\")\n"
   ]
  },
  {
   "cell_type": "code",
   "execution_count": 7,
   "metadata": {},
   "outputs": [
    {
     "name": "stdout",
     "output_type": "stream",
     "text": [
      "queue= []\n",
      "\n"
     ]
    }
   ],
   "source": [
    "s.download(\n",
    "    query=\"https://open.spotify.com/episode/60eWVnWqB3JHyW5JVsvuvz?si=YnrSvnINTWmhxyhwIXUTUw\",\n",
    "    query_type= Type.TRACK\n",
    ")"
   ]
  },
  {
   "cell_type": "code",
   "execution_count": null,
   "metadata": {},
   "outputs": [],
   "source": [
    "# Search Query\n",
    "# Types: TRACK, ALBUM, PLAYLIST\n",
    "# s.download(\"QUERY\", query_type=Type.TRACK)"
   ]
  }
 ],
 "metadata": {
  "kernelspec": {
   "display_name": "venv",
   "language": "python",
   "name": "python3"
  },
  "language_info": {
   "codemirror_mode": {
    "name": "ipython",
    "version": 3
   },
   "file_extension": ".py",
   "mimetype": "text/x-python",
   "name": "python",
   "nbconvert_exporter": "python",
   "pygments_lexer": "ipython3",
   "version": "3.10.12"
  }
 },
 "nbformat": 4,
 "nbformat_minor": 2
}
