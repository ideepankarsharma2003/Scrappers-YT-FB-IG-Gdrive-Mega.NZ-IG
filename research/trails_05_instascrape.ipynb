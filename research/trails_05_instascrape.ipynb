{
 "cells": [
  {
   "cell_type": "code",
   "execution_count": 1,
   "metadata": {},
   "outputs": [],
   "source": [
    "# !pip install instascrape"
   ]
  },
  {
   "cell_type": "code",
   "execution_count": 1,
   "metadata": {},
   "outputs": [],
   "source": [
    "from instascrape import Reel\n",
    "import time"
   ]
  },
  {
   "cell_type": "code",
   "execution_count": 3,
   "metadata": {},
   "outputs": [
    {
     "ename": "ValueError",
     "evalue": "Invalid value NaN (not a number)",
     "output_type": "error",
     "traceback": [
      "\u001b[0;31m---------------------------------------------------------------------------\u001b[0m",
      "\u001b[0;31mValueError\u001b[0m                                Traceback (most recent call last)",
      "Cell \u001b[0;32mIn[3], line 6\u001b[0m\n\u001b[1;32m      4\u001b[0m SESSIONID\u001b[38;5;241m=\u001b[39m \u001b[38;5;124m\"\u001b[39m\u001b[38;5;124m61802472736\u001b[39m\u001b[38;5;124m%\u001b[39m\u001b[38;5;124m3AJMGX5tUZiSsJ9Z\u001b[39m\u001b[38;5;124m%\u001b[39m\u001b[38;5;124m3A22\u001b[39m\u001b[38;5;124m%\u001b[39m\u001b[38;5;124m3AAYcO8OZorONeHbPCQ2lmyi1E_v-cAzp2XlJkxXLvLg\u001b[39m\u001b[38;5;124m\"\u001b[39m\n\u001b[1;32m      5\u001b[0m sample_reel \u001b[38;5;241m=\u001b[39m Reel(\u001b[38;5;124m'\u001b[39m\u001b[38;5;124mhttps://www.instagram.com/reel/Cccgd2MFCs4/\u001b[39m\u001b[38;5;124m'\u001b[39m)\n\u001b[0;32m----> 6\u001b[0m \u001b[43msample_reel\u001b[49m\u001b[38;5;241;43m.\u001b[39;49m\u001b[43mscrape\u001b[49m\u001b[43m(\u001b[49m\n\u001b[1;32m      7\u001b[0m \u001b[43m    \u001b[49m\n\u001b[1;32m      8\u001b[0m \u001b[43m    \u001b[49m\u001b[43mheaders\u001b[49m\u001b[38;5;241;43m=\u001b[39;49m\u001b[43m \u001b[49m\u001b[43m{\u001b[49m\n\u001b[1;32m      9\u001b[0m \u001b[43m    \u001b[49m\u001b[38;5;124;43m\"\u001b[39;49m\u001b[38;5;124;43mUser-Agent\u001b[39;49m\u001b[38;5;124;43m\"\u001b[39;49m\u001b[43m:\u001b[49m\u001b[43m \u001b[49m\u001b[38;5;124;43m\"\u001b[39;49m\u001b[38;5;124;43mMozilla/5.0 (Windows NT 10.0; Win64; x64)\u001b[39;49m\u001b[38;5;130;43;01m\\\u001b[39;49;00m\n\u001b[1;32m     10\u001b[0m \u001b[38;5;124;43m    AppleWebKit/537.36 (KHTML, like Gecko) Chrome/79.0.3945.74 \u001b[39;49m\u001b[38;5;130;43;01m\\\u001b[39;49;00m\n\u001b[1;32m     11\u001b[0m \u001b[38;5;124;43m    Safari/537.36 Edg/79.0.309.43\u001b[39;49m\u001b[38;5;124;43m\"\u001b[39;49m\u001b[43m,\u001b[49m\n\u001b[1;32m     12\u001b[0m \u001b[43m    \u001b[49m\u001b[38;5;124;43m\"\u001b[39;49m\u001b[38;5;124;43mcookie\u001b[39;49m\u001b[38;5;124;43m\"\u001b[39;49m\u001b[43m:\u001b[49m\u001b[43m \u001b[49m\u001b[38;5;124;43mf\u001b[39;49m\u001b[38;5;124;43m'\u001b[39;49m\u001b[38;5;124;43msessionid=\u001b[39;49m\u001b[38;5;132;43;01m{\u001b[39;49;00m\u001b[43mSESSIONID\u001b[49m\u001b[38;5;132;43;01m}\u001b[39;49;00m\u001b[38;5;124;43m;\u001b[39;49m\u001b[38;5;124;43m'\u001b[39;49m\n\u001b[1;32m     13\u001b[0m \u001b[43m}\u001b[49m\n\u001b[1;32m     14\u001b[0m \u001b[43m)\u001b[49m\n",
      "File \u001b[0;32m~/Vid2Aud/venv/lib/python3.10/site-packages/instascrape/scrapers/post.py:88\u001b[0m, in \u001b[0;36mPost.scrape\u001b[0;34m(self, mapping, keys, exclude, headers, inplace, session, webdriver)\u001b[0m\n\u001b[1;32m     85\u001b[0m \u001b[38;5;66;03m# HACK: This isn't a very clean solution and there is certainly a better\u001b[39;00m\n\u001b[1;32m     86\u001b[0m \u001b[38;5;66;03m# way to deal with returning a Post object with only partial data\u001b[39;00m\n\u001b[1;32m     87\u001b[0m \u001b[38;5;28;01mif\u001b[39;00m \u001b[38;5;28mhasattr\u001b[39m(return_instance, \u001b[38;5;124m\"\u001b[39m\u001b[38;5;124mtimestamp\u001b[39m\u001b[38;5;124m\"\u001b[39m):\n\u001b[0;32m---> 88\u001b[0m     return_instance\u001b[38;5;241m.\u001b[39mupload_date \u001b[38;5;241m=\u001b[39m \u001b[43mdatetime\u001b[49m\u001b[38;5;241;43m.\u001b[39;49m\u001b[43mdatetime\u001b[49m\u001b[38;5;241;43m.\u001b[39;49m\u001b[43mfromtimestamp\u001b[49m\u001b[43m(\u001b[49m\u001b[43mreturn_instance\u001b[49m\u001b[38;5;241;43m.\u001b[39;49m\u001b[43mtimestamp\u001b[49m\u001b[43m)\u001b[49m\n\u001b[1;32m     89\u001b[0m \u001b[38;5;28;01mif\u001b[39;00m \u001b[38;5;28mhasattr\u001b[39m(return_instance, \u001b[38;5;124m\"\u001b[39m\u001b[38;5;124mshortcode\u001b[39m\u001b[38;5;124m\"\u001b[39m):\n\u001b[1;32m     90\u001b[0m     return_instance\u001b[38;5;241m.\u001b[39murl \u001b[38;5;241m=\u001b[39m \u001b[38;5;28mself\u001b[39m\u001b[38;5;241m.\u001b[39m_url_from_suburl(return_instance\u001b[38;5;241m.\u001b[39mshortcode)\n",
      "\u001b[0;31mValueError\u001b[0m: Invalid value NaN (not a number)"
     ]
    }
   ],
   "source": [
    "import os\n",
    "import time\n",
    "\n",
    "SESSIONID= \"61802472736%3AJMGX5tUZiSsJ9Z%3A22%3AAYcO8OZorONeHbPCQ2lmyi1E_v-cAzp2XlJkxXLvLg\"\n",
    "sample_reel = Reel('https://www.instagram.com/reel/Cccgd2MFCs4/')\n",
    "sample_reel.scrape(\n",
    "    \n",
    "    headers= {\n",
    "    \"User-Agent\": \"Mozilla/5.0 (Windows NT 10.0; Win64; x64)\\\n",
    "    AppleWebKit/537.36 (KHTML, like Gecko) Chrome/79.0.3945.74 \\\n",
    "    Safari/537.36 Edg/79.0.309.43\",\n",
    "    \"cookie\": f'sessionid={SESSIONID};'\n",
    "}\n",
    ")\n"
   ]
  },
  {
   "cell_type": "markdown",
   "metadata": {},
   "source": []
  },
  {
   "cell_type": "code",
   "execution_count": 4,
   "metadata": {},
   "outputs": [
    {
     "name": "stderr",
     "output_type": "stream",
     "text": [
      "/home/lucky/Vid2Aud/venv/lib/python3.10/site-packages/instascrape/core/_static_scraper.py:134: MissingCookiesWarning: Request header does not contain cookies! It's recommended you pass at least a valid sessionid otherwise Instagram will likely redirect you to their login page.\n",
      "  warnings.warn(\n"
     ]
    },
    {
     "ename": "ValueError",
     "evalue": "Invalid value NaN (not a number)",
     "output_type": "error",
     "traceback": [
      "\u001b[0;31m---------------------------------------------------------------------------\u001b[0m",
      "\u001b[0;31mValueError\u001b[0m                                Traceback (most recent call last)",
      "Cell \u001b[0;32mIn[4], line 3\u001b[0m\n\u001b[1;32m      1\u001b[0m \u001b[38;5;28;01mfrom\u001b[39;00m \u001b[38;5;21;01minstascrape\u001b[39;00m \u001b[38;5;28;01mimport\u001b[39;00m Reel \n\u001b[1;32m      2\u001b[0m google_reel \u001b[38;5;241m=\u001b[39m Reel(\u001b[38;5;124m'\u001b[39m\u001b[38;5;124mhttps://www.instagram.com/reel/CIrJSrFFHM_/\u001b[39m\u001b[38;5;124m'\u001b[39m)\n\u001b[0;32m----> 3\u001b[0m \u001b[43mgoogle_reel\u001b[49m\u001b[38;5;241;43m.\u001b[39;49m\u001b[43mscrape\u001b[49m\u001b[43m(\u001b[49m\u001b[43m)\u001b[49m\n\u001b[1;32m      4\u001b[0m \u001b[38;5;28mprint\u001b[39m(\u001b[38;5;124mf\u001b[39m\u001b[38;5;124m\"\u001b[39m\u001b[38;5;124mThis reel has \u001b[39m\u001b[38;5;132;01m{\u001b[39;00mgoogle_reel\u001b[38;5;241m.\u001b[39mvideo_view_count\u001b[38;5;132;01m:\u001b[39;00m\u001b[38;5;124m,\u001b[39m\u001b[38;5;132;01m}\u001b[39;00m\u001b[38;5;124m views.\u001b[39m\u001b[38;5;124m\"\u001b[39m)\n",
      "File \u001b[0;32m~/Vid2Aud/venv/lib/python3.10/site-packages/instascrape/scrapers/post.py:88\u001b[0m, in \u001b[0;36mPost.scrape\u001b[0;34m(self, mapping, keys, exclude, headers, inplace, session, webdriver)\u001b[0m\n\u001b[1;32m     85\u001b[0m \u001b[38;5;66;03m# HACK: This isn't a very clean solution and there is certainly a better\u001b[39;00m\n\u001b[1;32m     86\u001b[0m \u001b[38;5;66;03m# way to deal with returning a Post object with only partial data\u001b[39;00m\n\u001b[1;32m     87\u001b[0m \u001b[38;5;28;01mif\u001b[39;00m \u001b[38;5;28mhasattr\u001b[39m(return_instance, \u001b[38;5;124m\"\u001b[39m\u001b[38;5;124mtimestamp\u001b[39m\u001b[38;5;124m\"\u001b[39m):\n\u001b[0;32m---> 88\u001b[0m     return_instance\u001b[38;5;241m.\u001b[39mupload_date \u001b[38;5;241m=\u001b[39m \u001b[43mdatetime\u001b[49m\u001b[38;5;241;43m.\u001b[39;49m\u001b[43mdatetime\u001b[49m\u001b[38;5;241;43m.\u001b[39;49m\u001b[43mfromtimestamp\u001b[49m\u001b[43m(\u001b[49m\u001b[43mreturn_instance\u001b[49m\u001b[38;5;241;43m.\u001b[39;49m\u001b[43mtimestamp\u001b[49m\u001b[43m)\u001b[49m\n\u001b[1;32m     89\u001b[0m \u001b[38;5;28;01mif\u001b[39;00m \u001b[38;5;28mhasattr\u001b[39m(return_instance, \u001b[38;5;124m\"\u001b[39m\u001b[38;5;124mshortcode\u001b[39m\u001b[38;5;124m\"\u001b[39m):\n\u001b[1;32m     90\u001b[0m     return_instance\u001b[38;5;241m.\u001b[39murl \u001b[38;5;241m=\u001b[39m \u001b[38;5;28mself\u001b[39m\u001b[38;5;241m.\u001b[39m_url_from_suburl(return_instance\u001b[38;5;241m.\u001b[39mshortcode)\n",
      "\u001b[0;31mValueError\u001b[0m: Invalid value NaN (not a number)"
     ]
    }
   ],
   "source": [
    "# from instascrape import Reel \n",
    "# google_reel = Reel('https://www.instagram.com/reel/CIrJSrFFHM_/')\n",
    "# google_reel.scrape()\n",
    "# print(f\"This reel has {google_reel.video_view_count:,} views.\")"
   ]
  },
  {
   "cell_type": "code",
   "execution_count": null,
   "metadata": {},
   "outputs": [],
   "source": [
    "reeldir = os.getcwd()\n",
    "sample_reel.download(fp=f\"{reeldir}\\\\reel{int(time.time())}.mp4\")\n",
    "print(dir)\n",
    "print(f\"This reel has {sample_reel.video_view_count:,} views.\")"
   ]
  },
  {
   "cell_type": "code",
   "execution_count": 2,
   "metadata": {},
   "outputs": [
    {
     "name": "stderr",
     "output_type": "stream",
     "text": [
      "/home/lucky/Vid2Aud/venv/lib/python3.10/site-packages/instascrape/core/_static_scraper.py:134: MissingCookiesWarning: Request header does not contain cookies! It's recommended you pass at least a valid sessionid otherwise Instagram will likely redirect you to their login page.\n",
      "  warnings.warn(\n"
     ]
    },
    {
     "ename": "ValueError",
     "evalue": "Invalid value NaN (not a number)",
     "output_type": "error",
     "traceback": [
      "\u001b[0;31m---------------------------------------------------------------------------\u001b[0m",
      "\u001b[0;31mValueError\u001b[0m                                Traceback (most recent call last)",
      "Cell \u001b[0;32mIn[2], line 17\u001b[0m\n\u001b[1;32m     13\u001b[0m insta_reel \u001b[38;5;241m=\u001b[39m Reel(\n\u001b[1;32m     14\u001b[0m \t\u001b[38;5;124m'\u001b[39m\u001b[38;5;124mhttps://www.instagram.com/reel/CKWDdesgv2l/?utm_source=ig_web_copy_link\u001b[39m\u001b[38;5;124m'\u001b[39m)\n\u001b[1;32m     16\u001b[0m \u001b[38;5;66;03m# Using scrape function and passing the headers\u001b[39;00m\n\u001b[0;32m---> 17\u001b[0m \u001b[43minsta_reel\u001b[49m\u001b[38;5;241;43m.\u001b[39;49m\u001b[43mscrape\u001b[49m\u001b[43m(\u001b[49m\u001b[43m)\u001b[49m\n\u001b[1;32m     19\u001b[0m \u001b[38;5;66;03m# Giving path where we want to download reel to the \u001b[39;00m\n\u001b[1;32m     20\u001b[0m \u001b[38;5;66;03m# download function\u001b[39;00m\n\u001b[1;32m     21\u001b[0m insta_reel\u001b[38;5;241m.\u001b[39mdownload(fp\u001b[38;5;241m=\u001b[39m\u001b[38;5;124m\"\u001b[39m\u001b[38;5;124mx.mp4\u001b[39m\u001b[38;5;124m\"\u001b[39m)\n",
      "File \u001b[0;32m~/Vid2Aud/venv/lib/python3.10/site-packages/instascrape/scrapers/post.py:88\u001b[0m, in \u001b[0;36mPost.scrape\u001b[0;34m(self, mapping, keys, exclude, headers, inplace, session, webdriver)\u001b[0m\n\u001b[1;32m     85\u001b[0m \u001b[38;5;66;03m# HACK: This isn't a very clean solution and there is certainly a better\u001b[39;00m\n\u001b[1;32m     86\u001b[0m \u001b[38;5;66;03m# way to deal with returning a Post object with only partial data\u001b[39;00m\n\u001b[1;32m     87\u001b[0m \u001b[38;5;28;01mif\u001b[39;00m \u001b[38;5;28mhasattr\u001b[39m(return_instance, \u001b[38;5;124m\"\u001b[39m\u001b[38;5;124mtimestamp\u001b[39m\u001b[38;5;124m\"\u001b[39m):\n\u001b[0;32m---> 88\u001b[0m     return_instance\u001b[38;5;241m.\u001b[39mupload_date \u001b[38;5;241m=\u001b[39m \u001b[43mdatetime\u001b[49m\u001b[38;5;241;43m.\u001b[39;49m\u001b[43mdatetime\u001b[49m\u001b[38;5;241;43m.\u001b[39;49m\u001b[43mfromtimestamp\u001b[49m\u001b[43m(\u001b[49m\u001b[43mreturn_instance\u001b[49m\u001b[38;5;241;43m.\u001b[39;49m\u001b[43mtimestamp\u001b[49m\u001b[43m)\u001b[49m\n\u001b[1;32m     89\u001b[0m \u001b[38;5;28;01mif\u001b[39;00m \u001b[38;5;28mhasattr\u001b[39m(return_instance, \u001b[38;5;124m\"\u001b[39m\u001b[38;5;124mshortcode\u001b[39m\u001b[38;5;124m\"\u001b[39m):\n\u001b[1;32m     90\u001b[0m     return_instance\u001b[38;5;241m.\u001b[39murl \u001b[38;5;241m=\u001b[39m \u001b[38;5;28mself\u001b[39m\u001b[38;5;241m.\u001b[39m_url_from_suburl(return_instance\u001b[38;5;241m.\u001b[39mshortcode)\n",
      "\u001b[0;31mValueError\u001b[0m: Invalid value NaN (not a number)"
     ]
    }
   ],
   "source": [
    "\n",
    "\n",
    "# # session id\n",
    "# SESSIONID = \"Paste session Id Here\"\n",
    "\n",
    "# Header with session id\n",
    "# headers = {\n",
    "# \t\"User-Agent\": \"Mozilla/5.0 (Windows NT 10.0; Win64; x64)\\\n",
    "# \tAppleWebKit/537.36 (KHTML, like Gecko) Chrome/79.0.3945.74 \\\n",
    "# \tSafari/537.36 Edg/79.0.309.43\",\n",
    "# \t\"cookie\": f'sessionid={SESSIONID};'\n",
    "# }\n",
    "\n",
    "# Passing Instagram reel link as argument in Reel Module\n",
    "insta_reel = Reel(\n",
    "\t'https://www.instagram.com/reel/CKWDdesgv2l/?utm_source=ig_web_copy_link')\n",
    "\n",
    "# Using scrape function and passing the headers\n",
    "insta_reel.scrape()\n",
    "\n",
    "# Giving path where we want to download reel to the \n",
    "# download function\n",
    "insta_reel.download(fp=\"x.mp4\")\n",
    "\n",
    "# printing success Message\n",
    "print('Downloaded Successfully.')\n"
   ]
  },
  {
   "cell_type": "code",
   "execution_count": null,
   "metadata": {},
   "outputs": [],
   "source": []
  }
 ],
 "metadata": {
  "kernelspec": {
   "display_name": "venv",
   "language": "python",
   "name": "python3"
  },
  "language_info": {
   "codemirror_mode": {
    "name": "ipython",
    "version": 3
   },
   "file_extension": ".py",
   "mimetype": "text/x-python",
   "name": "python",
   "nbconvert_exporter": "python",
   "pygments_lexer": "ipython3",
   "version": "3.10.12"
  }
 },
 "nbformat": 4,
 "nbformat_minor": 2
}
