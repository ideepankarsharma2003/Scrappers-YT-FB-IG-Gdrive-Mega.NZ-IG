{
 "cells": [
  {
   "cell_type": "code",
   "execution_count": 2,
   "metadata": {},
   "outputs": [],
   "source": [
    "import os; os.chdir('..')"
   ]
  },
  {
   "cell_type": "code",
   "execution_count": 3,
   "metadata": {},
   "outputs": [
    {
     "data": {
      "text/plain": [
       "'/home/lucky/Vid2Aud'"
      ]
     },
     "execution_count": 3,
     "metadata": {},
     "output_type": "execute_result"
    }
   ],
   "source": [
    "SAVE_PATH = \"dummy_vids/\"\n",
    "#to_do\n",
    "%pwd "
   ]
  },
  {
   "cell_type": "code",
   "execution_count": 11,
   "metadata": {},
   "outputs": [],
   "source": [
    "from pytube import YouTube \n",
    "link=\"https://www.youtube.com/watch?v=xWOoBJUqlbI\"\n",
    "try:  \n",
    "    # object creation using YouTube \n",
    "    # which was imported in the beginning  \n",
    "    yt = YouTube(link)  \n",
    "    yt.streams.filter(progressive=True, file_extension=\"mp4\").order_by(\"resolution\").desc().first().download(SAVE_PATH, filename=\"x.mp4\")\n",
    "    \n",
    "except:  \n",
    "    print(\"Connection Error\") #to handle exception  \n",
    "  "
   ]
  },
  {
   "cell_type": "code",
   "execution_count": 1,
   "metadata": {},
   "outputs": [
    {
     "ename": "AttributeError",
     "evalue": "'YouTube' object has no attribute 'filter'",
     "output_type": "error",
     "traceback": [
      "\u001b[0;31m---------------------------------------------------------------------------\u001b[0m",
      "\u001b[0;31mAttributeError\u001b[0m                            Traceback (most recent call last)",
      "Cell \u001b[0;32mIn[1], line 23\u001b[0m\n\u001b[1;32m     20\u001b[0m \t\u001b[38;5;28mprint\u001b[39m(\u001b[38;5;124m\"\u001b[39m\u001b[38;5;124mConnection Error\u001b[39m\u001b[38;5;124m\"\u001b[39m) \n\u001b[1;32m     22\u001b[0m \u001b[38;5;66;03m#filters out all the files with \"mp4\" extension \u001b[39;00m\n\u001b[0;32m---> 23\u001b[0m mp4files \u001b[38;5;241m=\u001b[39m \u001b[43myt\u001b[49m\u001b[38;5;241;43m.\u001b[39;49m\u001b[43mfilter\u001b[49m(\u001b[38;5;124m'\u001b[39m\u001b[38;5;124mmp4\u001b[39m\u001b[38;5;124m'\u001b[39m) \n\u001b[1;32m     25\u001b[0m \u001b[38;5;66;03m# get the video with the extension and \u001b[39;00m\n\u001b[1;32m     26\u001b[0m \u001b[38;5;66;03m# resolution passed in the get() function \u001b[39;00m\n\u001b[1;32m     27\u001b[0m d_video \u001b[38;5;241m=\u001b[39m yt\u001b[38;5;241m.\u001b[39mget(mp4files[\u001b[38;5;241m-\u001b[39m\u001b[38;5;241m1\u001b[39m]\u001b[38;5;241m.\u001b[39mextension,mp4files[\u001b[38;5;241m-\u001b[39m\u001b[38;5;241m1\u001b[39m]\u001b[38;5;241m.\u001b[39mresolution) \n",
      "\u001b[0;31mAttributeError\u001b[0m: 'YouTube' object has no attribute 'filter'"
     ]
    }
   ],
   "source": [
    "\n",
    "#where to save \n",
    "SAVE_PATH = \"E:/\" #to_do \n",
    "\n",
    "#link of the video to be downloaded \n",
    "link=[\"https://www.youtube.com/watch?v=xWOoBJUqlbI\", \n",
    "\t\"https://www.youtube.com/watch?v=xWOoBJUqlbI\"\n",
    "\t] \n",
    "\n",
    "for i in link: \n",
    "\ttry: \n",
    "\t\t\n",
    "\t\t# object creation using YouTube \n",
    "\t\t# which was imported in the beginning \n",
    "\t\tyt = YouTube(i) \n",
    "\texcept: \n",
    "\t\t\n",
    "\t\t#to handle exception \n",
    "\t\tprint(\"Connection Error\") \n",
    "\t\n",
    "\t#filters out all the files with \"mp4\" extension \n",
    "    yt.\n",
    "\tmp4files = yt.filter('mp4') \n",
    "\n",
    "\t# get the video with the extension and \n",
    "\t# resolution passed in the get() function \n",
    "\td_video = yt.get(mp4files[-1].extension,mp4files[-1].resolution) \n",
    "\ttry: \n",
    "\t\t# downloading the video \n",
    "\t\td_video.download(SAVE_PATH) \n",
    "\texcept: \n",
    "\t\tprint(\"Some Error!\") \n",
    "print('Task Completed!') \n"
   ]
  },
  {
   "cell_type": "code",
   "execution_count": 8,
   "metadata": {},
   "outputs": [],
   "source": [
    "from uuid import  uuid4"
   ]
  },
  {
   "cell_type": "code",
   "execution_count": 10,
   "metadata": {},
   "outputs": [
    {
     "data": {
      "text/plain": [
       "'78a6c8f3cf9f4719b22df14cb4680aa9'"
      ]
     },
     "execution_count": 10,
     "metadata": {},
     "output_type": "execute_result"
    }
   ],
   "source": [
    "a= uuid4()\n",
    "a.hex"
   ]
  },
  {
   "cell_type": "code",
   "execution_count": 12,
   "metadata": {},
   "outputs": [
    {
     "data": {
      "text/plain": [
       "29.8662"
      ]
     },
     "execution_count": 12,
     "metadata": {},
     "output_type": "execute_result"
    }
   ],
   "source": [
    "0.0013*22974"
   ]
  },
  {
   "cell_type": "code",
   "execution_count": null,
   "metadata": {},
   "outputs": [],
   "source": []
  }
 ],
 "metadata": {
  "kernelspec": {
   "display_name": "venv",
   "language": "python",
   "name": "python3"
  },
  "language_info": {
   "codemirror_mode": {
    "name": "ipython",
    "version": 3
   },
   "file_extension": ".py",
   "mimetype": "text/x-python",
   "name": "python",
   "nbconvert_exporter": "python",
   "pygments_lexer": "ipython3",
   "version": "3.10.12"
  }
 },
 "nbformat": 4,
 "nbformat_minor": 2
}
